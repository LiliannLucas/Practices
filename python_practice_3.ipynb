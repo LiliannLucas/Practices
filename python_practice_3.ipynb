{
  "nbformat": 4,
  "nbformat_minor": 0,
  "metadata": {
    "colab": {
      "name": "python_practice_3.ipynb",
      "provenance": [],
      "collapsed_sections": [],
      "include_colab_link": true
    },
    "kernelspec": {
      "name": "python3",
      "display_name": "Python 3"
    },
    "language_info": {
      "name": "python"
    }
  },
  "cells": [
    {
      "cell_type": "markdown",
      "metadata": {
        "id": "view-in-github",
        "colab_type": "text"
      },
      "source": [
        "<a href=\"https://colab.research.google.com/github/LiliannLucas/Practices/blob/main/python_practice_3.ipynb\" target=\"_parent\"><img src=\"https://colab.research.google.com/assets/colab-badge.svg\" alt=\"Open In Colab\"/></a>"
      ]
    },
    {
      "cell_type": "markdown",
      "metadata": {
        "id": "bhI3MmH41tqX"
      },
      "source": [
        "You do have the below text:\n",
        "\n",
        "sample_text = \"In this blog , I would like to share an Edge based Deep Learning project implemented on Nvidia Jetson Nano Developer Kit[4GB].\n",
        "The project is basically to help beginners like me to quickly understand the flow of converting DL models using PyTorch to ONNX and then to TensorRT engine. It also has a python script that will readily perform real-time TensorRT based inferencing using camera input and display the class as an overlay on the screen.\n",
        "A bit of background, I am an Embedded Systems Engineer and relatively new to the field of Deep Learning and Computer Vision. From last year onwards as part of my job, I was introduced to the Jetson Xavier (NX,AGX,TX2 and Nano) series of embedded boards.\n",
        "\""
      ]
    },
    {
      "cell_type": "markdown",
      "metadata": {
        "id": "yukYyqNB2Q-t"
      },
      "source": [
        "1. How many words in text that starts with \"t\". this search should be case-senstive free."
      ]
    },
    {
      "cell_type": "code",
      "metadata": {
        "id": "2ti3oab01oH2",
        "colab": {
          "base_uri": "https://localhost:8080/"
        },
        "outputId": "8400d01f-4df9-404c-bdcc-fb2bf4c3a164"
      },
      "source": [
        "s = \"In this blog , I would like to share an Edge based Deep Learning project implemented on Nvidia Jetson Nano Developer Kit[4GB]. The project is basically to help beginners like me to quickly understand the flow of converting DL models using PyTorch to ONNX and then to TensorRT engine. It also has a python script that will readily perform real-time TensorRT based inferencing using camera input and display the class as an overlay on the screen. A bit of background, I am an Embedded Systems Engineer and relatively new to the field of Deep Learning and Computer Vision. From last year onwards as part of my job, I was introduced to the Jetson Xavier (NX,AGX,TX2 and Nano) series of embedded boards. \"\n",
        "s = s.lower()\n",
        "list = s.split()\n",
        "count = 0\n",
        "\n",
        "for e in list:\n",
        "  if e.startswith(\"t\"):\n",
        "    # print(e)\n",
        "    count = count + 1\n",
        "print(count)"
      ],
      "execution_count": null,
      "outputs": [
        {
          "output_type": "stream",
          "text": [
            "18\n"
          ],
          "name": "stdout"
        }
      ]
    },
    {
      "cell_type": "markdown",
      "metadata": {
        "id": "hUsVaqjk2o8_"
      },
      "source": [
        "2. the words you find from Question 1, reverse the order. e.g The ==> ehT, TensorRT ==> rosneT. the sample_text should contain updated words"
      ]
    },
    {
      "cell_type": "code",
      "metadata": {
        "id": "wtGx5S0X3ONy",
        "colab": {
          "base_uri": "https://localhost:8080/"
        },
        "outputId": "9dc1d0ac-fe2e-4c22-ec26-cdd3666682d3"
      },
      "source": [
        "x = list\n",
        "index = 0\n",
        "\n",
        "\n",
        "for e in x:\n",
        "  # print(e, x[index])\n",
        "  if e.startswith(\"t\"):\n",
        "    x[index] = ''.join(reversed(e))\n",
        "\n",
        "\n",
        "  index = index + 1\n",
        "\n",
        "print(list)\n",
        "print(x)\n",
        "\n",
        "\n",
        "# sample_text = []\n",
        "# y = []\n",
        "# index = 0\n",
        "# print(list)\n",
        "\n",
        "# for e in list:\n",
        "#   if e.startswith(\"t\"):\n",
        "#     ''.join(reversed(e))\n",
        "#   index = index + 1\n"
      ],
      "execution_count": null,
      "outputs": [
        {
          "output_type": "stream",
          "text": [
            "['in', 'siht', 'blog', ',', 'i', 'would', 'like', 'ot', 'share', 'an', 'edge', 'based', 'deep', 'learning', 'project', 'implemented', 'on', 'nvidia', 'jetson', 'nano', 'developer', 'kit[4gb].', 'eht', 'project', 'is', 'basically', 'ot', 'help', 'beginners', 'like', 'me', 'ot', 'quickly', 'understand', 'eht', 'flow', 'of', 'converting', 'dl', 'models', 'using', 'pytorch', 'ot', 'onnx', 'and', 'neht', 'ot', 'trrosnet', 'engine.', 'it', 'also', 'has', 'a', 'python', 'script', 'taht', 'will', 'readily', 'perform', 'real-time', 'trrosnet', 'based', 'inferencing', 'using', 'camera', 'input', 'and', 'display', 'eht', 'class', 'as', 'an', 'overlay', 'on', 'eht', 'screen.', 'a', 'bit', 'of', 'background,', 'i', 'am', 'an', 'embedded', 'systems', 'engineer', 'and', 'relatively', 'new', 'ot', 'eht', 'field', 'of', 'deep', 'learning', 'and', 'computer', 'vision.', 'from', 'last', 'year', 'onwards', 'as', 'part', 'of', 'my', 'job,', 'i', 'was', 'introduced', 'ot', 'eht', 'jetson', 'xavier', '(nx,agx,tx2', 'and', 'nano)', 'series', 'of', 'embedded', 'boards.']\n",
            "['in', 'siht', 'blog', ',', 'i', 'would', 'like', 'ot', 'share', 'an', 'edge', 'based', 'deep', 'learning', 'project', 'implemented', 'on', 'nvidia', 'jetson', 'nano', 'developer', 'kit[4gb].', 'eht', 'project', 'is', 'basically', 'ot', 'help', 'beginners', 'like', 'me', 'ot', 'quickly', 'understand', 'eht', 'flow', 'of', 'converting', 'dl', 'models', 'using', 'pytorch', 'ot', 'onnx', 'and', 'neht', 'ot', 'trrosnet', 'engine.', 'it', 'also', 'has', 'a', 'python', 'script', 'taht', 'will', 'readily', 'perform', 'real-time', 'trrosnet', 'based', 'inferencing', 'using', 'camera', 'input', 'and', 'display', 'eht', 'class', 'as', 'an', 'overlay', 'on', 'eht', 'screen.', 'a', 'bit', 'of', 'background,', 'i', 'am', 'an', 'embedded', 'systems', 'engineer', 'and', 'relatively', 'new', 'ot', 'eht', 'field', 'of', 'deep', 'learning', 'and', 'computer', 'vision.', 'from', 'last', 'year', 'onwards', 'as', 'part', 'of', 'my', 'job,', 'i', 'was', 'introduced', 'ot', 'eht', 'jetson', 'xavier', '(nx,agx,tx2', 'and', 'nano)', 'series', 'of', 'embedded', 'boards.']\n"
          ],
          "name": "stdout"
        }
      ]
    },
    {
      "cell_type": "markdown",
      "metadata": {
        "id": "hW26geog3O7I"
      },
      "source": [
        "3. Find all words that starts with \"b\". then, change each word with its character lengh. e.g. bit ==> 3, basically ==> 9"
      ]
    },
    {
      "cell_type": "code",
      "metadata": {
        "id": "QJcD2Lvo3iov",
        "colab": {
          "base_uri": "https://localhost:8080/"
        },
        "outputId": "620b8855-b2c4-447a-d827-9a7197f6382b"
      },
      "source": [
        "index = 0\n",
        "\n",
        "for e in x:\n",
        "  if e.startswith(\"b\"):\n",
        "    x[index] = len(e)\n",
        "  index = index + 1\n",
        "\n",
        "print(x)"
      ],
      "execution_count": null,
      "outputs": [
        {
          "output_type": "stream",
          "text": [
            "['in', 'siht', 4, ',', 'i', 'would', 'like', 'ot', 'share', 'an', 'edge', 5, 'deep', 'learning', 'project', 'implemented', 'on', 'nvidia', 'jetson', 'nano', 'developer', 'kit[4gb].', 'eht', 'project', 'is', 9, 'ot', 'help', 9, 'like', 'me', 'ot', 'quickly', 'understand', 'eht', 'flow', 'of', 'converting', 'dl', 'models', 'using', 'pytorch', 'ot', 'onnx', 'and', 'neht', 'ot', 'trrosnet', 'engine.', 'it', 'also', 'has', 'a', 'python', 'script', 'taht', 'will', 'readily', 'perform', 'real-time', 'trrosnet', 5, 'inferencing', 'using', 'camera', 'input', 'and', 'display', 'eht', 'class', 'as', 'an', 'overlay', 'on', 'eht', 'screen.', 'a', 3, 'of', 11, 'i', 'am', 'an', 'embedded', 'systems', 'engineer', 'and', 'relatively', 'new', 'ot', 'eht', 'field', 'of', 'deep', 'learning', 'and', 'computer', 'vision.', 'from', 'last', 'year', 'onwards', 'as', 'part', 'of', 'my', 'job,', 'i', 'was', 'introduced', 'ot', 'eht', 'jetson', 'xavier', '(nx,agx,tx2', 'and', 'nano)', 'series', 'of', 'embedded', 7]\n"
          ],
          "name": "stdout"
        }
      ]
    },
    {
      "cell_type": "markdown",
      "metadata": {
        "id": "KwFnEmUv3jLh"
      },
      "source": [
        "4. find all number values from sample_text, then, apply the below formula and replace: \n",
        "\n",
        " ½(number+number) × number\n"
      ]
    },
    {
      "cell_type": "code",
      "metadata": {
        "id": "-2pJdjxsiivX"
      },
      "source": [
        ""
      ],
      "execution_count": null,
      "outputs": []
    },
    {
      "cell_type": "code",
      "metadata": {
        "id": "OEuGXxcY3wbS",
        "colab": {
          "base_uri": "https://localhost:8080/"
        },
        "outputId": "90014f47-fea3-4ee9-cb9a-493c260181ee"
      },
      "source": [
        "index = 0\n",
        "\n",
        "for e in x:\n",
        "  if isinstance(e, int):\n",
        "    # print(e)\n",
        "    e = float(e)\n",
        "    a = 0.5 * (e + e) * e\n",
        "    # print(a)\n",
        "    x[index] = a\n",
        "  index = index + 1\n",
        "\n",
        "print(x)"
      ],
      "execution_count": null,
      "outputs": [
        {
          "output_type": "stream",
          "text": [
            "['in', 'siht', 16.0, ',', 'i', 'would', 'like', 'ot', 'share', 'an', 'edge', 25.0, 'deep', 'learning', 'project', 'implemented', 'on', 'nvidia', 'jetson', 'nano', 'developer', 'kit[4gb].', 'eht', 'project', 'is', 81.0, 'ot', 'help', 81.0, 'like', 'me', 'ot', 'quickly', 'understand', 'eht', 'flow', 'of', 'converting', 'dl', 'models', 'using', 'pytorch', 'ot', 'onnx', 'and', 'neht', 'ot', 'trrosnet', 'engine.', 'it', 'also', 'has', 'a', 'python', 'script', 'taht', 'will', 'readily', 'perform', 'real-time', 'trrosnet', 25.0, 'inferencing', 'using', 'camera', 'input', 'and', 'display', 'eht', 'class', 'as', 'an', 'overlay', 'on', 'eht', 'screen.', 'a', 9.0, 'of', 121.0, 'i', 'am', 'an', 'embedded', 'systems', 'engineer', 'and', 'relatively', 'new', 'ot', 'eht', 'field', 'of', 'deep', 'learning', 'and', 'computer', 'vision.', 'from', 'last', 'year', 'onwards', 'as', 'part', 'of', 'my', 'job,', 'i', 'was', 'introduced', 'ot', 'eht', 'jetson', 'xavier', '(nx,agx,tx2', 'and', 'nano)', 'series', 'of', 'embedded', 49.0]\n"
          ],
          "name": "stdout"
        }
      ]
    },
    {
      "cell_type": "markdown",
      "metadata": {
        "id": "Mgp-T5O94ncf"
      },
      "source": [
        "5. find all number values from sample_text, then, divided by 3 and then, find its remaining value. then, replace its orginal number value with its remaining value "
      ]
    },
    {
      "cell_type": "code",
      "metadata": {
        "id": "lFip6tBF48JK",
        "colab": {
          "base_uri": "https://localhost:8080/"
        },
        "outputId": "13f73ee1-eaa2-4bf8-da88-b5ea381186b8"
      },
      "source": [
        "index = 0\n",
        "\n",
        "for e in x:\n",
        "  if isinstance(e, float):\n",
        "    # print(e)\n",
        "    e = float(e)\n",
        "    a = (e / 3)\n",
        "    # print(a)\n",
        "    x[index] = a\n",
        "  index = index + 1\n",
        "\n",
        "print(x)"
      ],
      "execution_count": null,
      "outputs": [
        {
          "output_type": "stream",
          "text": [
            "['in', 'siht', 5.333333333333333, ',', 'i', 'would', 'like', 'ot', 'share', 'an', 'edge', 8.333333333333334, 'deep', 'learning', 'project', 'implemented', 'on', 'nvidia', 'jetson', 'nano', 'developer', 'kit[4gb].', 'eht', 'project', 'is', 27.0, 'ot', 'help', 27.0, 'like', 'me', 'ot', 'quickly', 'understand', 'eht', 'flow', 'of', 'converting', 'dl', 'models', 'using', 'pytorch', 'ot', 'onnx', 'and', 'neht', 'ot', 'trrosnet', 'engine.', 'it', 'also', 'has', 'a', 'python', 'script', 'taht', 'will', 'readily', 'perform', 'real-time', 'trrosnet', 8.333333333333334, 'inferencing', 'using', 'camera', 'input', 'and', 'display', 'eht', 'class', 'as', 'an', 'overlay', 'on', 'eht', 'screen.', 'a', 3.0, 'of', 40.333333333333336, 'i', 'am', 'an', 'embedded', 'systems', 'engineer', 'and', 'relatively', 'new', 'ot', 'eht', 'field', 'of', 'deep', 'learning', 'and', 'computer', 'vision.', 'from', 'last', 'year', 'onwards', 'as', 'part', 'of', 'my', 'job,', 'i', 'was', 'introduced', 'ot', 'eht', 'jetson', 'xavier', '(nx,agx,tx2', 'and', 'nano)', 'series', 'of', 'embedded', 16.333333333333332]\n"
          ],
          "name": "stdout"
        }
      ]
    },
    {
      "cell_type": "markdown",
      "metadata": {
        "id": "BdCcs9C_5PC6"
      },
      "source": [
        "6. get words that start with \"a\". then, get its length. then, apply exponent x=5"
      ]
    },
    {
      "cell_type": "code",
      "metadata": {
        "id": "ppHmrNRu5ycO",
        "colab": {
          "base_uri": "https://localhost:8080/"
        },
        "outputId": "0e65a29d-a454-455d-92fc-42d129c6bd55"
      },
      "source": [
        "index = 0\n",
        "\n",
        "for e in x:\n",
        "  if isinstance(e, str):\n",
        "    if e.startswith(\"a\"):\n",
        "      a = len(e) ** 5\n",
        "      x[index] = a\n",
        "  index = index + 1\n",
        "\n",
        "print(x)"
      ],
      "execution_count": null,
      "outputs": [
        {
          "output_type": "stream",
          "text": [
            "['in', 'siht', 5.333333333333333, ',', 'i', 'would', 'like', 'ot', 'share', 32, 'edge', 8.333333333333334, 'deep', 'learning', 'project', 'implemented', 'on', 'nvidia', 'jetson', 'nano', 'developer', 'kit[4gb].', 'eht', 'project', 'is', 27.0, 'ot', 'help', 27.0, 'like', 'me', 'ot', 'quickly', 'understand', 'eht', 'flow', 'of', 'converting', 'dl', 'models', 'using', 'pytorch', 'ot', 'onnx', 243, 'neht', 'ot', 'trrosnet', 'engine.', 'it', 1024, 'has', 1, 'python', 'script', 'taht', 'will', 'readily', 'perform', 'real-time', 'trrosnet', 8.333333333333334, 'inferencing', 'using', 'camera', 'input', 243, 'display', 'eht', 'class', 32, 32, 'overlay', 'on', 'eht', 'screen.', 1, 3.0, 'of', 40.333333333333336, 'i', 32, 32, 'embedded', 'systems', 'engineer', 243, 'relatively', 'new', 'ot', 'eht', 'field', 'of', 'deep', 'learning', 243, 'computer', 'vision.', 'from', 'last', 'year', 'onwards', 32, 'part', 'of', 'my', 'job,', 'i', 'was', 'introduced', 'ot', 'eht', 'jetson', 'xavier', '(nx,agx,tx2', 243, 'nano)', 'series', 'of', 'embedded', 16.333333333333332]\n"
          ],
          "name": "stdout"
        }
      ]
    },
    {
      "cell_type": "markdown",
      "metadata": {
        "id": "oFiDrW6Z50ee"
      },
      "source": [
        "7. make your text into array list and, sort by its length. descending order"
      ]
    },
    {
      "cell_type": "code",
      "metadata": {
        "id": "72NmFYK95-UT",
        "colab": {
          "base_uri": "https://localhost:8080/"
        },
        "outputId": "d98b4047-745c-4c96-fd7c-897096e94903"
      },
      "source": [
        "\n",
        "index = 0\n",
        "\n",
        "for e in x:\n",
        "  if isinstance(e, float):\n",
        "    a = str(e)\n",
        "    x[index] = a\n",
        "  if isinstance(e, int):\n",
        "    b = str(e)\n",
        "    x[index] = b \n",
        "  index = index + 1\n",
        "\n",
        "# print(x)\n",
        "\n",
        "for e in x:\n",
        "  x.sort(reverse=True, key=len)\n",
        "  print(e, len(e))"
      ],
      "execution_count": null,
      "outputs": [
        {
          "output_type": "stream",
          "text": [
            ", 1\n",
            "16.333333333333332 18\n",
            "5.333333333333333 17\n",
            "8.333333333333334 17\n",
            "8.333333333333334 17\n",
            "implemented 11\n",
            "inferencing 11\n",
            "(nx,agx,tx2 11\n",
            "understand 10\n",
            "converting 10\n",
            "relatively 10\n",
            "introduced 10\n",
            "developer 9\n",
            "kit[4gb]. 9\n",
            "real-time 9\n",
            "learning 8\n",
            "trrosnet 8\n",
            "trrosnet 8\n",
            "embedded 8\n",
            "engineer 8\n",
            "learning 8\n",
            "computer 8\n",
            "embedded 8\n",
            "project 7\n",
            "project 7\n",
            "quickly 7\n",
            "pytorch 7\n",
            "engine. 7\n",
            "readily 7\n",
            "perform 7\n",
            "display 7\n",
            "overlay 7\n",
            "screen. 7\n",
            "systems 7\n",
            "vision. 7\n",
            "onwards 7\n",
            "nvidia 6\n",
            "jetson 6\n",
            "models 6\n",
            "python 6\n",
            "script 6\n",
            "camera 6\n",
            "jetson 6\n",
            "xavier 6\n",
            "series 6\n",
            "would 5\n",
            "share 5\n",
            "using 5\n",
            "using 5\n",
            "input 5\n",
            "class 5\n",
            "field 5\n",
            "nano) 5\n",
            "siht 4\n",
            "like 4\n",
            "edge 4\n",
            "deep 4\n",
            "nano 4\n",
            "27.0 4\n",
            "help 4\n",
            "27.0 4\n",
            "like 4\n",
            "flow 4\n",
            "onnx 4\n",
            "neht 4\n",
            "1024 4\n",
            "taht 4\n",
            "will 4\n",
            "deep 4\n",
            "from 4\n",
            "last 4\n",
            "year 4\n",
            "part 4\n",
            "job, 4\n",
            "eht 3\n",
            "eht 3\n",
            "243 3\n",
            "has 3\n",
            "243 3\n",
            "eht 3\n",
            "eht 3\n",
            "3.0 3\n",
            "243 3\n",
            "new 3\n",
            "eht 3\n",
            "243 3\n",
            "was 3\n",
            "eht 3\n",
            "243 3\n",
            "in 2\n",
            "ot 2\n",
            "32 2\n",
            "on 2\n",
            "is 2\n",
            "ot 2\n",
            "me 2\n",
            "ot 2\n",
            "of 2\n",
            "dl 2\n",
            "ot 2\n",
            "ot 2\n",
            "it 2\n",
            "32 2\n",
            "32 2\n",
            "on 2\n",
            "of 2\n",
            "32 2\n",
            "32 2\n",
            "ot 2\n",
            "of 2\n",
            "32 2\n",
            "of 2\n",
            "my 2\n",
            "ot 2\n",
            "of 2\n",
            ", 1\n",
            "i 1\n",
            "1 1\n",
            "1 1\n",
            "i 1\n",
            "i 1\n"
          ],
          "name": "stdout"
        }
      ]
    }
  ]
}