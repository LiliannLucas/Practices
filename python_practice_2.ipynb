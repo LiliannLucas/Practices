{
  "nbformat": 4,
  "nbformat_minor": 0,
  "metadata": {
    "colab": {
      "name": "python_practice_2.ipynb",
      "provenance": [],
      "collapsed_sections": [],
      "include_colab_link": true
    },
    "kernelspec": {
      "name": "python3",
      "display_name": "Python 3"
    },
    "language_info": {
      "name": "python"
    }
  },
  "cells": [
    {
      "cell_type": "markdown",
      "metadata": {
        "id": "view-in-github",
        "colab_type": "text"
      },
      "source": [
        "<a href=\"https://colab.research.google.com/github/LiliannLucas/Practices/blob/main/python_practice_2.ipynb\" target=\"_parent\"><img src=\"https://colab.research.google.com/assets/colab-badge.svg\" alt=\"Open In Colab\"/></a>"
      ]
    },
    {
      "cell_type": "markdown",
      "metadata": {
        "id": "RmrO1A1AM28J"
      },
      "source": [
        "you do have numbers from 1 - 10\n",
        "\n",
        "1. Create integer arrary from your numbers"
      ]
    },
    {
      "cell_type": "code",
      "metadata": {
        "id": "-DG6ATDtMuXW"
      },
      "source": [
        "x =  [1, 2, 3, 4, 5, 6, 7, 8, 9, 10]"
      ],
      "execution_count": null,
      "outputs": []
    },
    {
      "cell_type": "markdown",
      "metadata": {
        "id": "1lIw8R5aNUjm"
      },
      "source": [
        "2. Find all even numbers and print"
      ]
    },
    {
      "cell_type": "code",
      "metadata": {
        "id": "F_7IJLlbNZ_Z",
        "colab": {
          "base_uri": "https://localhost:8080/"
        },
        "outputId": "dd59d833-a48e-47a3-e995-99ab8c5601df"
      },
      "source": [
        "x\n",
        "\n",
        "even_i = []\n",
        "for i in x:\n",
        "    if i % 2 == 0:\n",
        "      even_i.append(i)\n",
        "\n",
        " \n",
        "even = even_i\n",
        " \n",
        "print(even)"
      ],
      "execution_count": null,
      "outputs": [
        {
          "output_type": "stream",
          "text": [
            "[2, 4, 6, 8, 10]\n"
          ],
          "name": "stdout"
        }
      ]
    },
    {
      "cell_type": "markdown",
      "metadata": {
        "id": "bx_lqXCmNabh"
      },
      "source": [
        "3. Find all odd numbers and print"
      ]
    },
    {
      "cell_type": "code",
      "metadata": {
        "id": "7lnozeoWNeEH",
        "colab": {
          "base_uri": "https://localhost:8080/"
        },
        "outputId": "156f9aef-68ce-47af-a618-20b494c3c996"
      },
      "source": [
        "x\n",
        "\n",
        "odd_i = []\n",
        "for i in x:\n",
        "    if i % 2 == 1:\n",
        "      odd_i.append(i)\n",
        "\n",
        " \n",
        "odd = odd_i\n",
        " \n",
        "print(odd)\n",
        "\n",
        " \n"
      ],
      "execution_count": null,
      "outputs": [
        {
          "output_type": "stream",
          "text": [
            "[1, 3, 5, 7, 9]\n"
          ],
          "name": "stdout"
        }
      ]
    },
    {
      "cell_type": "markdown",
      "metadata": {
        "id": "QjwunZwCNef5"
      },
      "source": [
        "4. if numers are even, multipy 5"
      ]
    },
    {
      "cell_type": "code",
      "metadata": {
        "id": "M0gYlepPNm_w",
        "colab": {
          "base_uri": "https://localhost:8080/"
        },
        "outputId": "27443803-091e-494e-a527-67c7e72040d2"
      },
      "source": [
        "print(even)\n",
        "\n",
        "timesfive = []\n",
        "\n",
        "\n",
        "for i in even:\n",
        "  y = i * 5\n",
        "  timesfive.append(y)\n",
        "\n",
        " \n",
        "print(timesfive)"
      ],
      "execution_count": null,
      "outputs": [
        {
          "output_type": "stream",
          "text": [
            "[2, 4, 6, 8, 10]\n",
            "[10, 20, 30, 40, 50]\n"
          ],
          "name": "stdout"
        }
      ]
    },
    {
      "cell_type": "markdown",
      "metadata": {
        "id": "R97DTlFTNnX0"
      },
      "source": [
        "5. if numbers are odd, multipy 50 and, then, divide by 3"
      ]
    },
    {
      "cell_type": "code",
      "metadata": {
        "id": "RN1cFYxXNwsp",
        "colab": {
          "base_uri": "https://localhost:8080/"
        },
        "outputId": "4fc24e14-8992-4833-8c61-7c651cc32827"
      },
      "source": [
        "x\n",
        "\n",
        "multidiv = []\n",
        "\n",
        "\n",
        "for i in odd:\n",
        "  q = (i * 50) / 3\n",
        "  multidiv.append(q)\n",
        "    \n",
        " \n",
        "\n",
        "print(multidiv)\n",
        "\n"
      ],
      "execution_count": null,
      "outputs": [
        {
          "output_type": "stream",
          "text": [
            "[16.666666666666668, 50.0, 83.33333333333333, 116.66666666666667, 150.0]\n"
          ],
          "name": "stdout"
        }
      ]
    },
    {
      "cell_type": "markdown",
      "metadata": {
        "id": "9Jy9q24RNxEs"
      },
      "source": [
        "6. find all numbers under 10, create a new array"
      ]
    },
    {
      "cell_type": "code",
      "metadata": {
        "id": "2nIPsRklN7qJ",
        "colab": {
          "base_uri": "https://localhost:8080/"
        },
        "outputId": "b611ae00-d4ce-472f-d671-d70c96c61767"
      },
      "source": [
        "numbers = timesfive + multidiv + odd + even\n",
        "\n",
        "# print(numbers)\n",
        "\n",
        "newa = []\n",
        "\n",
        "for i in numbers:\n",
        "  if i < 10:\n",
        "    print(i)\n",
        "    newa.append(i)"
      ],
      "execution_count": 44,
      "outputs": [
        {
          "output_type": "stream",
          "text": [
            "1\n",
            "3\n",
            "5\n",
            "7\n",
            "9\n",
            "2\n",
            "4\n",
            "6\n",
            "8\n"
          ],
          "name": "stdout"
        }
      ]
    },
    {
      "cell_type": "markdown",
      "metadata": {
        "id": "l3QT4MXYN8D0"
      },
      "source": [
        "7. combine all arrary variables into one array. e.g. a = [1,3,3,11] b=[3,3,12] ==> [1,3,3,11,3,3,12]"
      ]
    },
    {
      "cell_type": "code",
      "metadata": {
        "id": "NZjYSFFAOTip",
        "colab": {
          "base_uri": "https://localhost:8080/"
        },
        "outputId": "982b67f6-fe90-41be-b99d-e7244e1e6a5e"
      },
      "source": [
        "print(numbers)\n",
        "\n",
        "\n"
      ],
      "execution_count": 52,
      "outputs": [
        {
          "output_type": "stream",
          "text": [
            "[10, 20, 30, 40, 50, 16.666666666666668, 50.0, 83.33333333333333, 116.66666666666667, 150.0, 1, 3, 5, 7, 9, 2, 4, 6, 8, 10]\n"
          ],
          "name": "stdout"
        }
      ]
    },
    {
      "cell_type": "markdown",
      "metadata": {
        "id": "nlcgW9RzOU16"
      },
      "source": [
        "8. remove any duplicate values from array"
      ]
    },
    {
      "cell_type": "code",
      "metadata": {
        "id": "MY8A56LqObmW",
        "colab": {
          "base_uri": "https://localhost:8080/"
        },
        "outputId": "e8a94e77-aa43-4ae9-a687-fd1c9a8bfaae"
      },
      "source": [
        "print(numbers)\n",
        "\n",
        "dupli = []\n",
        "for i in numbers:\n",
        "    if i not in dupli:\n",
        "        dupli.append(i)\n",
        "\n",
        "\n",
        "print(dupli)"
      ],
      "execution_count": 54,
      "outputs": [
        {
          "output_type": "stream",
          "text": [
            "[10, 20, 30, 40, 50, 16.666666666666668, 50.0, 83.33333333333333, 116.66666666666667, 150.0, 1, 3, 5, 7, 9, 2, 4, 6, 8, 10]\n",
            "[10, 20, 30, 40, 50, 16.666666666666668, 83.33333333333333, 116.66666666666667, 150.0, 1, 3, 5, 7, 9, 2, 4, 6, 8]\n"
          ],
          "name": "stdout"
        }
      ]
    },
    {
      "cell_type": "markdown",
      "metadata": {
        "id": "9S10h2LnOzgs"
      },
      "source": [
        "9. find all float values from array"
      ]
    },
    {
      "cell_type": "code",
      "metadata": {
        "id": "PukR1VsHO22_",
        "colab": {
          "base_uri": "https://localhost:8080/"
        },
        "outputId": "50587488-8607-4d9b-ec57-f97e1bd0d97e"
      },
      "source": [
        "# print(dupli)\n",
        "\n",
        "res = []\n",
        "for i in dupli:\n",
        "  if isinstance(i, float):\n",
        "    print(i)\n",
        "\n"
      ],
      "execution_count": 65,
      "outputs": [
        {
          "output_type": "stream",
          "text": [
            "16.666666666666668\n",
            "83.33333333333333\n",
            "116.66666666666667\n",
            "150.0\n"
          ],
          "name": "stdout"
        }
      ]
    }
  ]
}